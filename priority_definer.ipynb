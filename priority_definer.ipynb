{
 "cells": [
  {
   "cell_type": "code",
   "execution_count": 33,
   "id": "5784833a-5934-40d8-bf5d-2c1f6f3ed394",
   "metadata": {},
   "outputs": [],
   "source": [
    "import numpy as np\n",
    "import pandas as pd\n",
    "import matplotlib.pyplot as plt\n",
    "import seaborn as sns\n",
    "\n",
    "from sklearn.feature_extraction.text import TfidfVectorizer\n",
    "from sklearn.model_selection import train_test_split\n",
    "from sklearn.linear_model import LogisticRegression\n",
    "from sklearn.naive_bayes import MultinomialNB\n",
    "from sklearn.ensemble import RandomForestClassifier\n",
    "from sklearn.metrics import (\n",
    "    accuracy_score, \n",
    "    precision_score, \n",
    "    recall_score, \n",
    "    f1_score, \n",
    "    classification_report, \n",
    "    confusion_matrix\n",
    ")\n",
    "import scipy.sparse as sp\n",
    "from scipy.sparse import hstack\n"
   ]
  },
  {
   "cell_type": "markdown",
   "id": "1b3cf737",
   "metadata": {},
   "source": [
    "Step 2: Loading the DataSet"
   ]
  },
  {
   "cell_type": "code",
   "execution_count": 34,
   "id": "91fcd680",
   "metadata": {},
   "outputs": [],
   "source": [
    "SAMPLE_SIZE = 100000\n",
    "df = pd.read_csv('tickets.csv', nrows=SAMPLE_SIZE)"
   ]
  },
  {
   "cell_type": "markdown",
   "id": "8d38fbf0",
   "metadata": {},
   "source": [
    "Step 3:Problem Statement: \"Predict priority (P1, P2, P3, P4) from ticket text.\""
   ]
  },
  {
   "cell_type": "code",
   "execution_count": 35,
   "id": "d049f724",
   "metadata": {},
   "outputs": [],
   "source": [
    "target_var = 'Priority'"
   ]
  },
  {
   "cell_type": "markdown",
   "id": "a5bd4a2e",
   "metadata": {},
   "source": [
    "Step 4: Distribution of Target Variable"
   ]
  },
  {
   "cell_type": "code",
   "execution_count": 36,
   "id": "646aafec",
   "metadata": {},
   "outputs": [
    {
     "name": "stdout",
     "output_type": "stream",
     "text": [
      "Distribution of target variable:\n",
      "Priority\n",
      "P3    7520\n",
      "P1    6748\n",
      "P2    5528\n",
      "Name: count, dtype: int64\n"
     ]
    },
    {
     "data": {
      "image/png": "[encoded data removed]",
      "text/plain": [
       "<Figure size 640x480 with 1 Axes>"
      ]
     },
     "metadata": {},
     "output_type": "display_data"
    }
   ],
   "source": [
    "print(\"Distribution of target variable:\")\n",
    "print(df[target_var].value_counts())\n",
    "\n",
    "df[target_var].value_counts().plot(kind='bar')\n",
    "plt.title('Distribution of Ticket Priorities')\n",
    "plt.xlabel('Priority')\n",
    "plt.ylabel('Count')\n",
    "plt.show()"
   ]
  },
  {
   "cell_type": "markdown",
   "id": "ace16e53",
   "metadata": {},
   "source": [
    "Step 5: Exploratory Data Analysis (EDA)"
   ]
  },
  {
   "cell_type": "code",
   "execution_count": null,
   "id": "07c6a287",
   "metadata": {},
   "outputs": [
    {
     "name": "stdout",
     "output_type": "stream",
     "text": [
      "\n",
      "Data preview:\n",
      "   TicketID                                 Ticket_Description Priority\n",
      "0    123456  connection issues with assigned address hi fac...       P1\n",
      "1    123457  cannot access hi cannot access fallowing link ...       P2\n",
      "2    123458  re address shown valid dear colleagues remarke...       P1\n",
      "3    123459  sent tuesday critical alert following alert oc...       P2\n",
      "4    123460  code spelling mistake hello should discover fo...       P2\n",
      "\n",
      "Checking Missing Values:\n",
      "TicketID              0\n",
      "Ticket_Description    0\n",
      "Priority              0\n",
      "dtype: int64\n",
      "Create Feature: Description Length\n"
     ]
    }
   ],
   "source": [
    "print(\"\\nData preview:\")\n",
    "print(df.head())\n",
    "print(\"\\nChecking Missing Values:\")\n",
    "print(df.isnull().sum())\n",
    "print(\"Create Feature: Description Length\")\n",
    "df['description_length'] = df['Ticket_Description'].astype(str).apply(len)"
   ]
  }
 ],
 "metadata": {
  "kernelspec": {
   "display_name": "Python 3",
   "language": "python",
   "name": "python3"
  },
  "language_info": {
   "codemirror_mode": {
    "name": "ipython",
    "version": 3
   },
   "file_extension": ".py",
   "mimetype": "text/x-python",
   "name": "python",
   "nbconvert_exporter": "python",
   "pygments_lexer": "ipython3",
   "version": "3.10.9"
  }
 },
 "nbformat": 4,
 "nbformat_minor": 5
}
